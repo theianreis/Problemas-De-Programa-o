{
 "cells": [
  {
   "cell_type": "markdown",
   "id": "d77587e6",
   "metadata": {},
   "source": [
    "#### Força entre duas cargas\n",
    "\n",
    "Duas cargas puntiformes $q_1=2\\mu C$ e $q_2=-3\\mu C$ estão separadas por uma distância \n",
    "r = $0.5m$.\n",
    "Calcule a força elétrica entre elas usando a Lei de Coulomb.\n",
    "\n",
    "\n",
    "$$\n",
    "\\text{Dados: } q_1 = 2\\times 10^{-6}\\,\\mathrm{C},\\ q_2 = -3\\times 10^{-6}\\,\\mathrm{C},\\ r = 0.5\\,\\mathrm{m} \\\\\n",
    "\\text{Lei de Coulomb: } F = k_e \\frac{|q_1 q_2|}{r^2},\\ k_e = 8.99 \\times 10^9 \\,\\mathrm{N\\cdot m^2/C^2}\n",
    "$$"
   ]
  },
  {
   "cell_type": "code",
   "execution_count": null,
   "id": "c4b26955",
   "metadata": {
    "vscode": {
     "languageId": "plaintext"
    }
   },
   "outputs": [],
   "source": []
  },
  {
   "cell_type": "markdown",
   "id": "8b492128",
   "metadata": {},
   "source": [
    "#### Problema 2 – Sistema de três cargas\n",
    "\n",
    "Três cargas puntiformes $q_1=1\\mu C$, $q_2=2\\mu C$ e $q_3=-1\\mu C$ estão localizadas nos vértices de um triângulo equilátero de lado $L = 0.3\\,\\mathrm{m}$.  \n",
    "Determine a força resultante sobre $q_1$.\n",
    "\n",
    "$$\n",
    "q_1 = 1\\times 10^{-6}\\,\\mathrm{C},\\ q_2 = 2\\times 10^{-6}\\,\\mathrm{C},\\ q_3 = -1\\times 10^{-6}\\,\\mathrm{C},\\ L = 0.3\\,\\mathrm{m}\n",
    "$$\n",
    "\n",
    "$$\n",
    "\\vec{F}_\\text{resultante} = \\vec{F}_{12} + \\vec{F}_{13}, \\quad\n",
    "\\vec{F}_{ij} = k_e \\frac{q_i q_j}{r^2} \\hat{r}_{ij}, \\quad\n",
    "k_e = 8.99 \\times 10^9\\,\\mathrm{N\\cdot m^2/C^2}\n",
    "$$"
   ]
  },
  {
   "cell_type": "code",
   "execution_count": null,
   "id": "96a3ea26",
   "metadata": {
    "vscode": {
     "languageId": "plaintext"
    }
   },
   "outputs": [],
   "source": []
  },
  {
   "cell_type": "markdown",
   "id": "7aea64b7",
   "metadata": {},
   "source": [
    "#### Problema 3 – Distância para força específica\n",
    "\n",
    "Duas cargas $q_1=5\\mu C$ e $q_2=10\\mu C$ exercem uma força de $F = 0.2\\,\\mathrm{N}$.  \n",
    "Determine a distância $r$ entre elas.\n",
    "\n",
    "$$\n",
    "q_1 = 5\\times 10^{-6}\\,\\mathrm{C},\\ q_2 = 10\\times 10^{-6}\\,\\mathrm{C},\\ F = 0.2\\,\\mathrm{N}\n",
    "$$\n",
    "\n",
    "$$\n",
    "r = \\sqrt{\\frac{k_e |q_1 q_2|}{F}}, \\quad k_e = 8.99 \\times 10^9\\,\\mathrm{N\\cdot m^2/C^2}\n",
    "$$"
   ]
  },
  {
   "cell_type": "code",
   "execution_count": null,
   "id": "48a6a6a7",
   "metadata": {
    "vscode": {
     "languageId": "plaintext"
    }
   },
   "outputs": [],
   "source": []
  },
  {
   "cell_type": "markdown",
   "id": "6b242997",
   "metadata": {},
   "source": [
    "#### Problema 4 – Equilíbrio de uma carga\n",
    "\n",
    "Uma carga $q=2\\mu C$ é colocada entre duas cargas fixas $Q_1 = 5\\mu C$ e $Q_2 = 3\\mu C$ separadas por $d = 1\\,\\mathrm{m}$.  \n",
    "Determine a posição em que a carga $q$ ficará em equilíbrio.\n",
    "\n",
    "$$\n",
    "q = 2\\times 10^{-6}\\,\\mathrm{C},\\ Q_1 = 5\\times 10^{-6}\\,\\mathrm{C},\\ Q_2 = 3\\times 10^{-6}\\,\\mathrm{C},\\ d = 1\\,\\mathrm{m}\n",
    "$$\n",
    "\n",
    "$$\n",
    "F_1 = F_2 \\Rightarrow k_e \\frac{Q_1 q}{x^2} = k_e \\frac{Q_2 q}{(d-x)^2}, \\quad k_e = 8.99 \\times 10^9\\,\\mathrm{N\\cdot m^2/C^2}\n",
    "$$"
   ]
  },
  {
   "cell_type": "code",
   "execution_count": null,
   "id": "c7413c59",
   "metadata": {
    "vscode": {
     "languageId": "plaintext"
    }
   },
   "outputs": [],
   "source": []
  },
  {
   "cell_type": "markdown",
   "metadata": {},
   "source": [
    "#### Problema 5 – Força resultante em linha\n",
    "\n",
    "Duas cargas $q_1=4\\mu C$ e $q_2=-2\\mu C$ estão em linha com $q_3 = 1\\mu C$ no meio, à distância $0.2\\,\\mathrm{m}$ de $q_1$ e $0.3\\,\\mathrm{m}$ de $q_2$.  \n",
    "Calcule a força resultante sobre $q_3$.\n",
    "\n",
    "$$\n",
    "q_1 = 4\\times 10^{-6}\\,\\mathrm{C},\\ q_2 = -2\\times 10^{-6}\\,\\mathrm{C},\\ q_3 = 1\\times 10^{-6}\\,\\mathrm{C}\n",
    "$$\n",
    "\n",
    "$$\n",
    "r_{13} = 0.2\\,\\mathrm{m},\\ r_{23} = 0.3\\,\\mathrm{m}\n",
    "$$\n",
    "\n",
    "$$\n",
    "\\vec{F}_3 = \\vec{F}_{13} + \\vec{F}_{23}, \\quad\n",
    "\\vec{F}_{ij} = k_e \\frac{q_i q_j}{r^2}\\hat{r}_{ij}, \\quad\n",
    "k_e = 8.99 \\times 10^9\\,\\mathrm{N\\cdot m^2/C^2}\n",
    "$$"
   ]
  },
  {
   "cell_type": "code",
   "execution_count": null,
   "id": "6daec7f3",
   "metadata": {
    "vscode": {
     "languageId": "plaintext"
    }
   },
   "outputs": [],
   "source": []
  }
 ],
 "metadata": {
  "language_info": {
   "name": "python"
  }
 },
 "nbformat": 4,
 "nbformat_minor": 5
}
