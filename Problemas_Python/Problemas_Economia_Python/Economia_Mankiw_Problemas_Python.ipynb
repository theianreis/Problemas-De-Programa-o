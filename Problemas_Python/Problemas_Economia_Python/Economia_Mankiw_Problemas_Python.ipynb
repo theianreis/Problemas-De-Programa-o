{
 "cells": [
  {
   "cell_type": "markdown",
   "id": "998907c7",
   "metadata": {},
   "source": [
    "# Problemas de Economia (estilo Mankiw) para resolver em Python\n",
    "\n",
    "Este caderno contém **5 problemas originais** inspirados no livro *Princípios de Economia* (Mankiw).\n",
    "A ideia é que você resolva **programaticamente** usando `sympy` (álgebra simbólica) e, quando fizer sentido,\n",
    "use `matplotlib` para visualizar curvas de oferta e demanda.\n",
    "\n",
    "**Como usar:**\n",
    "- Leia o enunciado em cada célula *Markdown*.\n",
    "- Use as células de código logo abaixo para montar as equações e resolver.\n",
    "- Não há respostas prontas — os *TODOs* te guiam passo a passo.\n",
    "- Se travar, rode apenas uma parte do código por vez e verifique as variáveis intermediárias.\n",
    "\n",
    "> Dica pedagógica: tente **explicar para si mesmo** (ou para mim!) o que cada linha de código está fazendo.\n"
   ]
  },
  {
   "cell_type": "markdown",
   "id": "e11e74d7",
   "metadata": {},
   "source": [
    "#### Problema 1 – Equilíbrio simples\n",
    "\n",
    "Considere o mercado de notebooks com as seguintes funções:\n",
    "\\[\n",
    "Q_d = 500 - 2P, \\quad Q_s = 100 + 3P.\n",
    "\\]\n",
    "\n",
    "1. Encontre o **preço de equilíbrio** \\(P^*\\) e a **quantidade de equilíbrio** \\(Q^*\\).  \n",
    "2. **Cheque** se no equilíbrio vale \\(Q_d = Q_s\\).\n",
    "\n",
    "*Sugestão:* Use `sympy.solve` para resolver \\(500 - 2P = 100 + 3P\\).\n"
   ]
  },
  {
   "cell_type": "code",
   "execution_count": null,
   "id": "453eb540",
   "metadata": {},
   "outputs": [],
   "source": []
  },
  {
   "cell_type": "markdown",
   "id": "015ee3fd",
   "metadata": {},
   "source": [
    "#### Problema 2 – Imposto específico\n",
    "\n",
    "Retome o mercado de notebooks do **Problema 1**. Agora o governo impõe um **imposto específico** \\(t = 10\\) por unidade.\n",
    "\n",
    "- Demanda: \\(Q_d = 500 - 2P_c\\) (consumidores pagam \\(P_c\\))\n",
    "- Oferta **com imposto**: \\(Q_s = 100 + 3P_p\\) (produtores recebem \\(P_p\\)), com \\(P_c = P_p + t\\)\n",
    "\n",
    "1. Encontre \\(P_c\\), \\(P_p\\) e \\(Q^*\\) após o imposto.  \n",
    "2. Compare com o equilíbrio sem imposto: quem suporta maior parcela do imposto? (Incidência)\n"
   ]
  },
  {
   "cell_type": "code",
   "execution_count": null,
   "id": "f5e226fc",
   "metadata": {},
   "outputs": [],
   "source": []
  },
  {
   "cell_type": "markdown",
   "id": "249b8062",
   "metadata": {},
   "source": [
    "#### Problema 3 – Choque de oferta\n",
    "\n",
    "Mercado de trigo:\n",
    "\\[\n",
    "Q_d = 1000 - 4P, \\quad Q_s = 200 + 2P.\n",
    "\\]\n",
    "Ocorre um choque negativo de oferta (clima), deslocando-a para:\n",
    "\\[\n",
    "Q_s' = 100 + 2P.\n",
    "\\]\n",
    "\n",
    "1. Encontre \\((P^*, Q^*)\\) **antes** e **depois** do choque.  \n",
    "2. Meça as variações \\(\\Delta P\\) e \\(\\Delta Q\\).  \n",
    "3. *Opcional:* Trace as curvas iniciais e finais em um gráfico \\((P, Q)\\).\n"
   ]
  },
  {
   "cell_type": "code",
   "execution_count": null,
   "id": "30deee5e",
   "metadata": {},
   "outputs": [],
   "source": []
  },
  {
   "cell_type": "markdown",
   "id": "afa27525",
   "metadata": {},
   "source": [
    "#### Problema 4 – Elasticidade-preço da demanda (fórmula do ponto médio)\n",
    "\n",
    "Demanda por sorvetes:\n",
    "\\[\n",
    "Q_d = 300 - P.\n",
    "\\]\n",
    "O preço muda de \\(P_1 = 50\\) para \\(P_2 = 60\\).\n",
    "\n",
    "1. Calcule \\(Q_1\\) e \\(Q_2\\).  \n",
    "2. Use a **fórmula do ponto médio** para obter \\(E_d\\):\n",
    "\\[\n",
    "E_d = \\frac{\\frac{Q_2 - Q_1}{(Q_1 + Q_2)/2}}{\\frac{P_2 - P_1}{(P_1 + P_2)/2}}.\n",
    "\\]\n",
    "3. Classifique: elástica (\\(|E_d|>1\\)), inelástica (\\(|E_d|<1\\)) ou unitária (\\(|E_d|=1\\)).\n"
   ]
  },
  {
   "cell_type": "code",
   "execution_count": null,
   "id": "c24dd4b4",
   "metadata": {},
   "outputs": [],
   "source": []
  },
  {
   "cell_type": "markdown",
   "id": "064c3a82",
   "metadata": {},
   "source": [
    "#### Problema 5 – Subsídio\n",
    "\n",
    "Mercado de transporte público:\n",
    "\\[\n",
    "Q_d = 800 - 5P, \\quad Q_s = 200 + 3P.\n",
    "\\]\n",
    "O governo concede um **subsídio específico** de \\(s = 4\\) por unidade às empresas (produtores).\n",
    "\n",
    "- Demanda: \\(Q_d = 800 - 5P_c\\) (consumidores pagam \\(P_c\\))\n",
    "- Oferta com subsídio: \\(Q_s = 200 + 3P_p\\) (produtores recebem \\(P_p\\)), com \\(P_p = P_c + s\\)\n",
    "\n",
    "1. Encontre \\(P_c\\), \\(P_p\\) e \\(Q^*\\) com subsídio.  \n",
    "2. Quanto os **consumidores economizam** por unidade? Quanto os **produtores recebem a mais**?  \n",
    "3. Qual o **gasto total do governo**? (\\(G = s \\cdot Q^*\\))\n"
   ]
  },
  {
   "cell_type": "code",
   "execution_count": null,
   "id": "d82b085c",
   "metadata": {},
   "outputs": [],
   "source": []
  }
 ],
 "metadata": {
  "language_info": {
   "name": "python"
  }
 },
 "nbformat": 4,
 "nbformat_minor": 5
}
